{
 "cells": [
  {
   "cell_type": "markdown",
   "metadata": {},
   "source": [
    "# Make Netcdf Mask of Countries\n"
   ]
  },
  {
   "cell_type": "code",
   "execution_count": 44,
   "metadata": {},
   "outputs": [],
   "source": [
    "# Download the shapefile fo a country from the web : \n",
    "# !pip install iso3166\n",
    "from iso3166 import countries\n",
    "#!pip install wget\n",
    "import wget\n",
    "import os\n",
    "from netCDF4 import Dataset as NetCDFFile\n",
    "import matplotlib.pyplot as plt\n",
    "from mpl_toolkits.basemap import Basemap\n",
    "import numpy as np "
   ]
  },
  {
   "cell_type": "code",
   "execution_count": 65,
   "metadata": {},
   "outputs": [],
   "source": [
    "# get your country's 3 letter  code: \n",
    "country= countries.get('Kazakhstan').alpha3"
   ]
  },
  {
   "cell_type": "code",
   "execution_count": 67,
   "metadata": {},
   "outputs": [
    {
     "data": {
      "text/plain": [
       "'./shapefile.zip'"
      ]
     },
     "execution_count": 67,
     "metadata": {},
     "output_type": "execute_result"
    }
   ],
   "source": [
    "# Download the file \n",
    "!rm *.zip \n",
    "url=f\"https://biogeo.ucdavis.edu/data/diva/adm/\"+country+\"_adm.zip\"\n",
    "wget.download(url, './shapefile.zip')\n"
   ]
  },
  {
   "cell_type": "code",
   "execution_count": 70,
   "metadata": {},
   "outputs": [
    {
     "name": "stdout",
     "output_type": "stream",
     "text": [
      "Archive:  ./shapefile.zip\r\n",
      " extracting: KAZ_adm0.cpg            \r\n",
      "  inflating: KAZ_adm0.csv            \r\n",
      "  inflating: KAZ_adm0.dbf            \r\n",
      "  inflating: KAZ_adm0.prj            \r\n",
      "  inflating: KAZ_adm0.shp            \r\n",
      "  inflating: KAZ_adm0.shx            \r\n",
      " extracting: KAZ_adm1.cpg            \r\n",
      "  inflating: KAZ_adm1.csv            \r\n",
      "  inflating: KAZ_adm1.dbf            \r\n",
      "  inflating: KAZ_adm1.prj            \r\n",
      "  inflating: KAZ_adm1.shp            \r\n",
      "  inflating: KAZ_adm1.shx            \r\n",
      " extracting: KAZ_adm2.cpg            \r\n",
      "  inflating: KAZ_adm2.csv            \r\n",
      "  inflating: KAZ_adm2.dbf            \r\n",
      "  inflating: KAZ_adm2.prj            \r\n",
      "  inflating: KAZ_adm2.shp            \r\n",
      "  inflating: KAZ_adm2.shx            \r\n",
      "  inflating: license.txt             \r\n"
     ]
    }
   ],
   "source": [
    "# Unzip the zip file! \n",
    "!rm *_adm*.*\n",
    "!rm *txt \n",
    "!unzip ./shapefile.zip"
   ]
  },
  {
   "cell_type": "code",
   "execution_count": null,
   "metadata": {},
   "outputs": [],
   "source": []
  },
  {
   "cell_type": "code",
   "execution_count": 73,
   "metadata": {},
   "outputs": [
    {
     "name": "stdout",
     "output_type": "stream",
     "text": [
      "\u001b[32mcdo(1) setmissval: \u001b[0mProcess started\n",
      "\u001b[32mcdo(2) topo: \u001b[0mProcess started\n",
      "\u001b[32mcdo    remapbil: \u001b[0mBilinear weights from lonlat (720x360) to lonlat (3600x1800) grid\n",
      "cdo    remapbil:                        1 1 1 1 1 1 1 1 1 1 2 2 2 2 2 2 2 2 2 2 3 3 3 3 3 3 3 3 3 3 4 4 4 4 4 4 4 4 4 4 5 5 5 5 5 5 5 5 5 5 6 6 6 6 6 6 6 6 6 6 7 7 7 7 7 7 7 7 7 7 8 8 8 8 8 8 8 8 8 8 9 9 9 9 9 9 9 9 9 91\u001b[32mcdo(2) topo: \u001b[0m\n",
      "\u001b[32mcdo(1) setmissval: \u001b[0mProcessed 259200 values from 1 variable over 1 timestep.\n",
      "\u001b[32mcdo    remapbil: \u001b[0mProcessed 259200 values from 1 variable over 1 timestep [3.37s 1422MB].\n"
     ]
    }
   ],
   "source": [
    "# Create a netcdf file with 0.1 deg resolution\n",
    "!cdo -f nc -remapbil,r3600x1800 -setmissval,1e20 -topo topo_0.1x0.1deg_global.nc"
   ]
  },
  {
   "cell_type": "code",
   "execution_count": 74,
   "metadata": {},
   "outputs": [
    {
     "data": {
      "text/plain": [
       "'./shapefile_utils (1).ncl'"
      ]
     },
     "execution_count": 74,
     "metadata": {},
     "output_type": "execute_result"
    }
   ],
   "source": [
    "# Download the ncl script \n",
    "url = \"https://www.ncl.ucar.edu/Applications/Scripts/shapefile_utils.ncl\"\n",
    "wget.download(url, './shapefile_utils.ncl')"
   ]
  },
  {
   "cell_type": "code",
   "execution_count": 75,
   "metadata": {},
   "outputs": [
    {
     "data": {
      "text/plain": [
       "0"
      ]
     },
     "execution_count": 75,
     "metadata": {},
     "output_type": "execute_result"
    }
   ],
   "source": [
    "# change the ncl code \n",
    "cmd = \"sed -i -- 's/CCC/\"+country+\"/g' my_ncl_code.ncl\"\n",
    "os.system(cmd)\n",
    "# run the ncl code : \n",
    "cmd='ncl my_ncl_code.ncl'\n",
    "os.system(cmd)\n",
    "# change back to default: \n",
    "cmd = \"sed -i -- 's/\"+country+\"/CCC/g' my_ncl_code.ncl\"\n",
    "os.system(cmd)\n"
   ]
  },
  {
   "cell_type": "markdown",
   "metadata": {},
   "source": [
    "## Now plot the netcdf file! "
   ]
  },
  {
   "cell_type": "code",
   "execution_count": 76,
   "metadata": {},
   "outputs": [],
   "source": [
    "# read the model data: \n",
    "nc = NetCDFFile(country+'_adm0_mask_array_0.1x0.1deg_global.nc')\n",
    "lats = nc.variables['lat'][:]\n",
    "lons = nc.variables['lon'][:]\n",
    "mask = nc.variables['mask_array'][:]\n",
    "nc.close()"
   ]
  },
  {
   "cell_type": "code",
   "execution_count": null,
   "metadata": {},
   "outputs": [],
   "source": [
    "# plot the mask : \n",
    "fig = plt.figure('1')\n",
    "fig.set_size_inches(14, 10)\n",
    "my_map = Basemap(projection='cyl', \n",
    "                 llcrnrlat=-90, llcrnrlon=0,\n",
    "                 urcrnrlat=90, urcrnrlon=360,\n",
    "                 resolution='i', area_thresh=1.0)\n",
    "\n",
    "my_map.fillcontinents(color='wheat', zorder=-1)\n",
    "#my_map.drawcountries()\n",
    "lons_m, lats_m = my_map(lons, lats)\n",
    "# remove negative\n",
    "masks = mask.data.astype(float)\n",
    "masks[masks<0]=np.nan\n",
    "# plot\n",
    "my_map.pcolor(lons_m, lats_m, masks,vmin=-.0001, vmax=1,\n",
    "              cmap='binary', zorder=1, alpha=1,shading='auto')\n",
    "parallels = np.arange(-90.,90,20.)\n",
    "# labels = [left,right,top,bottom]\n",
    "my_map.drawparallels(parallels,labels=[False,True,True,False])\n",
    "meridians = np.arange(0.,360.,20.)\n",
    "my_map.drawmeridians(meridians,labels=[True,False,False,True])\n",
    "plt.savefig(\"mask.png\", bbox_inches = 'tight',\n",
    "    pad_inches = 0);"
   ]
  },
  {
   "cell_type": "code",
   "execution_count": 59,
   "metadata": {},
   "outputs": [],
   "source": []
  },
  {
   "cell_type": "code",
   "execution_count": null,
   "metadata": {},
   "outputs": [],
   "source": []
  }
 ],
 "metadata": {
  "kernelspec": {
   "display_name": "Python 3",
   "language": "python",
   "name": "python3"
  },
  "language_info": {
   "codemirror_mode": {
    "name": "ipython",
    "version": 3
   },
   "file_extension": ".py",
   "mimetype": "text/x-python",
   "name": "python",
   "nbconvert_exporter": "python",
   "pygments_lexer": "ipython3",
   "version": "3.8.10"
  }
 },
 "nbformat": 4,
 "nbformat_minor": 4
}
